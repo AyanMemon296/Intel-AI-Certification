{
 "cells": [
  {
   "cell_type": "code",
   "execution_count": 1,
   "id": "dabb98f0-bf71-4343-8cb5-46721a25f469",
   "metadata": {},
   "outputs": [],
   "source": [
    "import pandas as pd\n",
    "\n",
    "# Load the dummy dataset again\n",
    "data = pd.DataFrame({\n",
    "    'Lead ID': [101, 102, 103, 104],\n",
    "    'Source': ['Website', 'LinkedIn', 'Google Ads', 'Referral'],\n",
    "    'Time on Site (min)': [5, 12, 7, 20],\n",
    "    'Pages Visited': [3, 7, 5, 9],\n",
    "    'Device': ['Mobile', 'Desktop', 'Mobile', 'Desktop'],\n",
    "    'Converted': [0, 1, 0, 1]\n",
    "})\n"
   ]
  },
  {
   "cell_type": "code",
   "execution_count": 2,
   "id": "b0eba5f3-d282-4137-a7fc-e2e7124e2106",
   "metadata": {},
   "outputs": [],
   "source": [
    "data = data.drop(columns=['Lead ID'])\n"
   ]
  },
  {
   "cell_type": "code",
   "execution_count": 3,
   "id": "eef08a17-1ac0-48ad-84a0-81c20f1c5b5b",
   "metadata": {},
   "outputs": [
    {
     "data": {
      "text/html": [
       "<div>\n",
       "<style scoped>\n",
       "    .dataframe tbody tr th:only-of-type {\n",
       "        vertical-align: middle;\n",
       "    }\n",
       "\n",
       "    .dataframe tbody tr th {\n",
       "        vertical-align: top;\n",
       "    }\n",
       "\n",
       "    .dataframe thead th {\n",
       "        text-align: right;\n",
       "    }\n",
       "</style>\n",
       "<table border=\"1\" class=\"dataframe\">\n",
       "  <thead>\n",
       "    <tr style=\"text-align: right;\">\n",
       "      <th></th>\n",
       "      <th>Time on Site (min)</th>\n",
       "      <th>Pages Visited</th>\n",
       "      <th>Converted</th>\n",
       "      <th>Source_LinkedIn</th>\n",
       "      <th>Source_Referral</th>\n",
       "      <th>Source_Website</th>\n",
       "      <th>Device_Mobile</th>\n",
       "    </tr>\n",
       "  </thead>\n",
       "  <tbody>\n",
       "    <tr>\n",
       "      <th>0</th>\n",
       "      <td>5</td>\n",
       "      <td>3</td>\n",
       "      <td>0</td>\n",
       "      <td>False</td>\n",
       "      <td>False</td>\n",
       "      <td>True</td>\n",
       "      <td>True</td>\n",
       "    </tr>\n",
       "    <tr>\n",
       "      <th>1</th>\n",
       "      <td>12</td>\n",
       "      <td>7</td>\n",
       "      <td>1</td>\n",
       "      <td>True</td>\n",
       "      <td>False</td>\n",
       "      <td>False</td>\n",
       "      <td>False</td>\n",
       "    </tr>\n",
       "    <tr>\n",
       "      <th>2</th>\n",
       "      <td>7</td>\n",
       "      <td>5</td>\n",
       "      <td>0</td>\n",
       "      <td>False</td>\n",
       "      <td>False</td>\n",
       "      <td>False</td>\n",
       "      <td>True</td>\n",
       "    </tr>\n",
       "    <tr>\n",
       "      <th>3</th>\n",
       "      <td>20</td>\n",
       "      <td>9</td>\n",
       "      <td>1</td>\n",
       "      <td>False</td>\n",
       "      <td>True</td>\n",
       "      <td>False</td>\n",
       "      <td>False</td>\n",
       "    </tr>\n",
       "  </tbody>\n",
       "</table>\n",
       "</div>"
      ],
      "text/plain": [
       "   Time on Site (min)  Pages Visited  Converted  Source_LinkedIn  \\\n",
       "0                   5              3          0            False   \n",
       "1                  12              7          1             True   \n",
       "2                   7              5          0            False   \n",
       "3                  20              9          1            False   \n",
       "\n",
       "   Source_Referral  Source_Website  Device_Mobile  \n",
       "0            False            True           True  \n",
       "1            False           False          False  \n",
       "2            False           False           True  \n",
       "3             True           False          False  "
      ]
     },
     "execution_count": 3,
     "metadata": {},
     "output_type": "execute_result"
    }
   ],
   "source": [
    "# Use one-hot encoding for 'Source' and 'Device'\n",
    "data_encoded = pd.get_dummies(data, drop_first=True)\n",
    "data_encoded\n"
   ]
  },
  {
   "cell_type": "code",
   "execution_count": 4,
   "id": "dc2dee62-5b61-4695-8af6-6323fd02ccb3",
   "metadata": {},
   "outputs": [],
   "source": [
    "X = data_encoded.drop('Converted', axis=1)\n",
    "y = data_encoded['Converted']\n"
   ]
  },
  {
   "cell_type": "code",
   "execution_count": 5,
   "id": "d604de06-1501-4c9e-abca-92d099a2d015",
   "metadata": {},
   "outputs": [
    {
     "name": "stdout",
     "output_type": "stream",
     "text": [
      "Train shape: (3, 6)\n",
      "Test shape: (1, 6)\n"
     ]
    }
   ],
   "source": [
    "from sklearn.model_selection import train_test_split\n",
    "\n",
    "X_train, X_test, y_train, y_test = train_test_split(\n",
    "    X, y, test_size=0.25, random_state=42\n",
    ")\n",
    "\n",
    "print(\"Train shape:\", X_train.shape)\n",
    "print(\"Test shape:\", X_test.shape)\n"
   ]
  },
  {
   "cell_type": "code",
   "execution_count": null,
   "id": "ce1c5538-a991-4902-83b1-0701f1729626",
   "metadata": {},
   "outputs": [],
   "source": []
  }
 ],
 "metadata": {
  "kernelspec": {
   "display_name": "Python 3 (ipykernel)",
   "language": "python",
   "name": "python3"
  },
  "language_info": {
   "codemirror_mode": {
    "name": "ipython",
    "version": 3
   },
   "file_extension": ".py",
   "mimetype": "text/x-python",
   "name": "python",
   "nbconvert_exporter": "python",
   "pygments_lexer": "ipython3",
   "version": "3.10.11"
  }
 },
 "nbformat": 4,
 "nbformat_minor": 5
}
