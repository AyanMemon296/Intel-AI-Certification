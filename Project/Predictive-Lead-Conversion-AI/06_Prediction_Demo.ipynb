{
 "cells": [
  {
   "cell_type": "code",
   "execution_count": 7,
   "id": "db16e987-71df-4cfd-aa8c-fdf265f60d94",
   "metadata": {},
   "outputs": [
    {
     "name": "stdout",
     "output_type": "stream",
     "text": [
      "Predicted Conversion: Yes\n"
     ]
    }
   ],
   "source": [
    "import pandas as pd\n",
    "import pickle\n",
    "\n",
    "# Load the model\n",
    "with open(\"lead_model.pkl\", \"rb\") as file:\n",
    "    model = pickle.load(file)\n",
    "\n",
    "# Load model columns\n",
    "with open(\"model_columns.pkl\", \"rb\") as file:\n",
    "    model_columns = pickle.load(file)\n",
    "\n",
    "# Simulate new input lead (change values if you want to test)\n",
    "new_data = pd.DataFrame([{\n",
    "    'Time on Site (min)': 15,\n",
    "    'Pages Visited': 6,\n",
    "    'Source_LinkedIn': 0,\n",
    "    'Source_Referral': 0,\n",
    "    'Source_Website': 1,\n",
    "    'Device_Mobile': 1\n",
    "}])\n",
    "\n",
    "# Ensure all expected columns are present\n",
    "for col in model_columns:\n",
    "    if col not in new_data.columns:\n",
    "        new_data[col] = 0\n",
    "\n",
    "# Reorder columns to match training\n",
    "new_data = new_data[model_columns]\n",
    "\n",
    "# Predict\n",
    "prediction = model.predict(new_data)[0]\n",
    "result = \"Yes\" if prediction == 1 else \"No\"\n",
    "\n",
    "print(\"Predicted Conversion:\", result)\n"
   ]
  },
  {
   "cell_type": "code",
   "execution_count": null,
   "id": "bbaebc82-8e88-4d0f-8c00-bf605488d5e2",
   "metadata": {},
   "outputs": [],
   "source": []
  }
 ],
 "metadata": {
  "kernelspec": {
   "display_name": "Python 3 (ipykernel)",
   "language": "python",
   "name": "python3"
  },
  "language_info": {
   "codemirror_mode": {
    "name": "ipython",
    "version": 3
   },
   "file_extension": ".py",
   "mimetype": "text/x-python",
   "name": "python",
   "nbconvert_exporter": "python",
   "pygments_lexer": "ipython3",
   "version": "3.10.11"
  }
 },
 "nbformat": 4,
 "nbformat_minor": 5
}
