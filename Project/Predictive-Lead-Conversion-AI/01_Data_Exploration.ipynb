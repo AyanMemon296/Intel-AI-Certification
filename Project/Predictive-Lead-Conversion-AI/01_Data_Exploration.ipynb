{
 "cells": [
  {
   "cell_type": "code",
   "execution_count": 1,
   "id": "d7dff036-8828-47cf-9ac3-95cf9b6cd59b",
   "metadata": {},
   "outputs": [
    {
     "data": {
      "text/html": [
       "<div>\n",
       "<style scoped>\n",
       "    .dataframe tbody tr th:only-of-type {\n",
       "        vertical-align: middle;\n",
       "    }\n",
       "\n",
       "    .dataframe tbody tr th {\n",
       "        vertical-align: top;\n",
       "    }\n",
       "\n",
       "    .dataframe thead th {\n",
       "        text-align: right;\n",
       "    }\n",
       "</style>\n",
       "<table border=\"1\" class=\"dataframe\">\n",
       "  <thead>\n",
       "    <tr style=\"text-align: right;\">\n",
       "      <th></th>\n",
       "      <th>Lead ID</th>\n",
       "      <th>Source</th>\n",
       "      <th>Time on Site (min)</th>\n",
       "      <th>Pages Visited</th>\n",
       "      <th>Device</th>\n",
       "      <th>Converted</th>\n",
       "    </tr>\n",
       "  </thead>\n",
       "  <tbody>\n",
       "    <tr>\n",
       "      <th>0</th>\n",
       "      <td>101</td>\n",
       "      <td>Website</td>\n",
       "      <td>5</td>\n",
       "      <td>3</td>\n",
       "      <td>Mobile</td>\n",
       "      <td>0</td>\n",
       "    </tr>\n",
       "    <tr>\n",
       "      <th>1</th>\n",
       "      <td>102</td>\n",
       "      <td>LinkedIn</td>\n",
       "      <td>12</td>\n",
       "      <td>7</td>\n",
       "      <td>Desktop</td>\n",
       "      <td>1</td>\n",
       "    </tr>\n",
       "    <tr>\n",
       "      <th>2</th>\n",
       "      <td>103</td>\n",
       "      <td>Google Ads</td>\n",
       "      <td>7</td>\n",
       "      <td>5</td>\n",
       "      <td>Mobile</td>\n",
       "      <td>0</td>\n",
       "    </tr>\n",
       "    <tr>\n",
       "      <th>3</th>\n",
       "      <td>104</td>\n",
       "      <td>Referral</td>\n",
       "      <td>20</td>\n",
       "      <td>9</td>\n",
       "      <td>Desktop</td>\n",
       "      <td>1</td>\n",
       "    </tr>\n",
       "  </tbody>\n",
       "</table>\n",
       "</div>"
      ],
      "text/plain": [
       "   Lead ID      Source  Time on Site (min)  Pages Visited   Device  Converted\n",
       "0      101     Website                   5              3   Mobile          0\n",
       "1      102    LinkedIn                  12              7  Desktop          1\n",
       "2      103  Google Ads                   7              5   Mobile          0\n",
       "3      104    Referral                  20              9  Desktop          1"
      ]
     },
     "execution_count": 1,
     "metadata": {},
     "output_type": "execute_result"
    }
   ],
   "source": [
    "import pandas as pd\n",
    "\n",
    "# Load sample data (we'll simulate a small dummy dataset for now)\n",
    "data = pd.DataFrame({\n",
    "    'Lead ID': [101, 102, 103, 104],\n",
    "    'Source': ['Website', 'LinkedIn', 'Google Ads', 'Referral'],\n",
    "    'Time on Site (min)': [5, 12, 7, 20],\n",
    "    'Pages Visited': [3, 7, 5, 9],\n",
    "    'Device': ['Mobile', 'Desktop', 'Mobile', 'Desktop'],\n",
    "    'Converted': [0, 1, 0, 1]  # Target column\n",
    "})\n",
    "\n",
    "# Show the data\n",
    "data.head()\n"
   ]
  },
  {
   "cell_type": "code",
   "execution_count": 2,
   "id": "bf7278cc-969a-4364-b0da-d73b9824453f",
   "metadata": {},
   "outputs": [
    {
     "name": "stdout",
     "output_type": "stream",
     "text": [
      "<class 'pandas.core.frame.DataFrame'>\n",
      "RangeIndex: 4 entries, 0 to 3\n",
      "Data columns (total 6 columns):\n",
      " #   Column              Non-Null Count  Dtype \n",
      "---  ------              --------------  ----- \n",
      " 0   Lead ID             4 non-null      int64 \n",
      " 1   Source              4 non-null      object\n",
      " 2   Time on Site (min)  4 non-null      int64 \n",
      " 3   Pages Visited       4 non-null      int64 \n",
      " 4   Device              4 non-null      object\n",
      " 5   Converted           4 non-null      int64 \n",
      "dtypes: int64(4), object(2)\n",
      "memory usage: 320.0+ bytes\n"
     ]
    }
   ],
   "source": [
    "# Basic info\n",
    "data.info()\n"
   ]
  },
  {
   "cell_type": "code",
   "execution_count": 3,
   "id": "d8512e31-5179-46a4-9e89-72079929bea6",
   "metadata": {},
   "outputs": [
    {
     "data": {
      "text/html": [
       "<div>\n",
       "<style scoped>\n",
       "    .dataframe tbody tr th:only-of-type {\n",
       "        vertical-align: middle;\n",
       "    }\n",
       "\n",
       "    .dataframe tbody tr th {\n",
       "        vertical-align: top;\n",
       "    }\n",
       "\n",
       "    .dataframe thead th {\n",
       "        text-align: right;\n",
       "    }\n",
       "</style>\n",
       "<table border=\"1\" class=\"dataframe\">\n",
       "  <thead>\n",
       "    <tr style=\"text-align: right;\">\n",
       "      <th></th>\n",
       "      <th>Lead ID</th>\n",
       "      <th>Time on Site (min)</th>\n",
       "      <th>Pages Visited</th>\n",
       "      <th>Converted</th>\n",
       "    </tr>\n",
       "  </thead>\n",
       "  <tbody>\n",
       "    <tr>\n",
       "      <th>count</th>\n",
       "      <td>4.000000</td>\n",
       "      <td>4.000000</td>\n",
       "      <td>4.000000</td>\n",
       "      <td>4.00000</td>\n",
       "    </tr>\n",
       "    <tr>\n",
       "      <th>mean</th>\n",
       "      <td>102.500000</td>\n",
       "      <td>11.000000</td>\n",
       "      <td>6.000000</td>\n",
       "      <td>0.50000</td>\n",
       "    </tr>\n",
       "    <tr>\n",
       "      <th>std</th>\n",
       "      <td>1.290994</td>\n",
       "      <td>6.683313</td>\n",
       "      <td>2.581989</td>\n",
       "      <td>0.57735</td>\n",
       "    </tr>\n",
       "    <tr>\n",
       "      <th>min</th>\n",
       "      <td>101.000000</td>\n",
       "      <td>5.000000</td>\n",
       "      <td>3.000000</td>\n",
       "      <td>0.00000</td>\n",
       "    </tr>\n",
       "    <tr>\n",
       "      <th>25%</th>\n",
       "      <td>101.750000</td>\n",
       "      <td>6.500000</td>\n",
       "      <td>4.500000</td>\n",
       "      <td>0.00000</td>\n",
       "    </tr>\n",
       "    <tr>\n",
       "      <th>50%</th>\n",
       "      <td>102.500000</td>\n",
       "      <td>9.500000</td>\n",
       "      <td>6.000000</td>\n",
       "      <td>0.50000</td>\n",
       "    </tr>\n",
       "    <tr>\n",
       "      <th>75%</th>\n",
       "      <td>103.250000</td>\n",
       "      <td>14.000000</td>\n",
       "      <td>7.500000</td>\n",
       "      <td>1.00000</td>\n",
       "    </tr>\n",
       "    <tr>\n",
       "      <th>max</th>\n",
       "      <td>104.000000</td>\n",
       "      <td>20.000000</td>\n",
       "      <td>9.000000</td>\n",
       "      <td>1.00000</td>\n",
       "    </tr>\n",
       "  </tbody>\n",
       "</table>\n",
       "</div>"
      ],
      "text/plain": [
       "          Lead ID  Time on Site (min)  Pages Visited  Converted\n",
       "count    4.000000            4.000000       4.000000    4.00000\n",
       "mean   102.500000           11.000000       6.000000    0.50000\n",
       "std      1.290994            6.683313       2.581989    0.57735\n",
       "min    101.000000            5.000000       3.000000    0.00000\n",
       "25%    101.750000            6.500000       4.500000    0.00000\n",
       "50%    102.500000            9.500000       6.000000    0.50000\n",
       "75%    103.250000           14.000000       7.500000    1.00000\n",
       "max    104.000000           20.000000       9.000000    1.00000"
      ]
     },
     "execution_count": 3,
     "metadata": {},
     "output_type": "execute_result"
    }
   ],
   "source": [
    "# Describe numerical features\n",
    "data.describe()\n"
   ]
  },
  {
   "cell_type": "code",
   "execution_count": 4,
   "id": "0c2f94f2-4de2-4322-8242-6b5275878301",
   "metadata": {},
   "outputs": [
    {
     "data": {
      "text/plain": [
       "Lead ID               0\n",
       "Source                0\n",
       "Time on Site (min)    0\n",
       "Pages Visited         0\n",
       "Device                0\n",
       "Converted             0\n",
       "dtype: int64"
      ]
     },
     "execution_count": 4,
     "metadata": {},
     "output_type": "execute_result"
    }
   ],
   "source": [
    "# Check if any missing values\n",
    "data.isnull().sum()\n"
   ]
  },
  {
   "cell_type": "code",
   "execution_count": null,
   "id": "f024ff63-3fb1-4962-ad46-0b5befaed0bd",
   "metadata": {},
   "outputs": [],
   "source": []
  }
 ],
 "metadata": {
  "kernelspec": {
   "display_name": "Python 3 (ipykernel)",
   "language": "python",
   "name": "python3"
  },
  "language_info": {
   "codemirror_mode": {
    "name": "ipython",
    "version": 3
   },
   "file_extension": ".py",
   "mimetype": "text/x-python",
   "name": "python",
   "nbconvert_exporter": "python",
   "pygments_lexer": "ipython3",
   "version": "3.10.11"
  }
 },
 "nbformat": 4,
 "nbformat_minor": 5
}
